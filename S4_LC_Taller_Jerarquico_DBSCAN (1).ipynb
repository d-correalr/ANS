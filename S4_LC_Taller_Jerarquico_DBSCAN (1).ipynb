{
 "cells": [
  {
   "cell_type": "markdown",
   "metadata": {},
   "source": [
    "<div >\n",
    "<img src = \"figs/ans_banner_1920x200.png\" />\n",
    "</div>"
   ]
  },
  {
   "cell_type": "markdown",
   "metadata": {},
   "source": [
    "# Caso-taller:  Segmentación de Clientes con Clustering Jerárquico y DBSCAN"
   ]
  },
  {
   "cell_type": "markdown",
   "metadata": {},
   "source": [
    "El objetivo de este caso-taller es analizar una base de datos ficticia sobre clientes de una tienda y buscar encontrar grupos de clientes que permitan generar estrategias de marketing focalizadas. La base se encuentra en los `Archivos de Laboratorio` en la carpeta `data` y cuenta con 200 observaciones y 5 variables:\n",
    "\n",
    "- `Id_Cliente`: identificador de cliente.\n",
    "- `Genero`: género del cliente: Mujer, Hombre\n",
    "- `Edad`: edad en años\n",
    "- `Ingreso`: ingresos anuales\n",
    "- `Puntaje_Gasto`: es una variable que mide cuán a menudo un cliente compra en la tienda, siendo 100 el puntaje más alto.\n"
   ]
  },
  {
   "cell_type": "markdown",
   "metadata": {},
   "source": [
    "## Instrucciones generales\n",
    "\n",
    "1. Para desarrollar el *cuaderno* primero debe descargarlo.\n",
    "\n",
    "2. Para responder cada inciso deberá utilizar el espacio debidamente especificado.\n",
    "\n",
    "3. La actividad será calificada sólo si sube el *cuaderno* de jupyter notebook con extensión `.ipynb` en la actividad designada como \"entrega calificada por el personal\".\n",
    "\n",
    "4. El archivo entregado debe poder ser ejecutado localmente por el tutor. Sea cuidadoso con la especificación de la ubicación de los archivos de soporte, guarde la carpeta de datos en el mismo `path` de su cuaderno, por ejemplo: `data`."
   ]
  },
  {
   "cell_type": "markdown",
   "metadata": {},
   "source": [
    "## Desarrollo\n"
   ]
  },
  {
   "cell_type": "markdown",
   "metadata": {},
   "source": [
    "### 1.Carga de datos \n",
    "\n",
    "En la carpeta `data` se encuentra el archivo `datos_clientes.csv` cargue estos datos en su *cuaderno*. "
   ]
  },
  {
   "cell_type": "code",
   "execution_count": 4,
   "metadata": {
    "noteable": {
     "cell_type": "code"
    }
   },
   "outputs": [
    {
     "name": "stdout",
     "output_type": "stream",
     "text": [
      "(200, 5)\n"
     ]
    },
    {
     "data": {
      "text/html": [
       "<div>\n",
       "<style scoped>\n",
       "    .dataframe tbody tr th:only-of-type {\n",
       "        vertical-align: middle;\n",
       "    }\n",
       "\n",
       "    .dataframe tbody tr th {\n",
       "        vertical-align: top;\n",
       "    }\n",
       "\n",
       "    .dataframe thead th {\n",
       "        text-align: right;\n",
       "    }\n",
       "</style>\n",
       "<table border=\"1\" class=\"dataframe\">\n",
       "  <thead>\n",
       "    <tr style=\"text-align: right;\">\n",
       "      <th></th>\n",
       "      <th>Id_Cliente</th>\n",
       "      <th>Genero</th>\n",
       "      <th>Edad</th>\n",
       "      <th>Ingreso</th>\n",
       "      <th>Puntaje_Gasto</th>\n",
       "    </tr>\n",
       "  </thead>\n",
       "  <tbody>\n",
       "    <tr>\n",
       "      <th>0</th>\n",
       "      <td>1</td>\n",
       "      <td>Mujer</td>\n",
       "      <td>41</td>\n",
       "      <td>98115.05</td>\n",
       "      <td>39</td>\n",
       "    </tr>\n",
       "    <tr>\n",
       "      <th>1</th>\n",
       "      <td>2</td>\n",
       "      <td>Mujer</td>\n",
       "      <td>20</td>\n",
       "      <td>35458.14</td>\n",
       "      <td>75</td>\n",
       "    </tr>\n",
       "    <tr>\n",
       "      <th>2</th>\n",
       "      <td>3</td>\n",
       "      <td>Mujer</td>\n",
       "      <td>68</td>\n",
       "      <td>59872.08</td>\n",
       "      <td>55</td>\n",
       "    </tr>\n",
       "    <tr>\n",
       "      <th>3</th>\n",
       "      <td>4</td>\n",
       "      <td>Hombre</td>\n",
       "      <td>63</td>\n",
       "      <td>48508.93</td>\n",
       "      <td>51</td>\n",
       "    </tr>\n",
       "    <tr>\n",
       "      <th>4</th>\n",
       "      <td>5</td>\n",
       "      <td>Mujer</td>\n",
       "      <td>31</td>\n",
       "      <td>44431.11</td>\n",
       "      <td>54</td>\n",
       "    </tr>\n",
       "  </tbody>\n",
       "</table>\n",
       "</div>"
      ],
      "text/plain": [
       "   Id_Cliente  Genero  Edad   Ingreso  Puntaje_Gasto\n",
       "0           1   Mujer    41  98115.05             39\n",
       "1           2   Mujer    20  35458.14             75\n",
       "2           3   Mujer    68  59872.08             55\n",
       "3           4  Hombre    63  48508.93             51\n",
       "4           5   Mujer    31  44431.11             54"
      ]
     },
     "metadata": {},
     "output_type": "display_data"
    }
   ],
   "source": [
    "import pandas as pd\n",
    "import numpy as np\n",
    "\n",
    "df = pd.read_csv(\"data/datos_clientes.csv\")\n",
    "\n",
    "print(df.shape)\n",
    "\n",
    "display(df.head())"
   ]
  },
  {
   "cell_type": "markdown",
   "metadata": {},
   "source": [
    "(Utilice este espacio para describir su procedimiento)"
   ]
  },
  {
   "cell_type": "markdown",
   "metadata": {},
   "source": [
    "### 2. Análisis preliminar. \n",
    "\n",
    "Antes de comenzar el análisis de segmentación utilice estadísticas descriptivas para explorar la variables que se encuentran en los datos. En su análisis mencione si hay patrones que surgen del examen descriptivo de los datos; entre ellos si hay diferencias en los ingresos y los puntajes de gastos para mujeres y hombres, por grupos etarios (18-24, 25-34, 35-44, 45-54, 55-64, y 65+), y por grupos etarios y género. Discuta además si estas diferencias son estadísticamente significativas."
   ]
  },
  {
   "cell_type": "code",
   "execution_count": 5,
   "metadata": {},
   "outputs": [
    {
     "name": "stdout",
     "output_type": "stream",
     "text": [
      "Estadísticas descriptivas generales:\n"
     ]
    },
    {
     "data": {
      "text/html": [
       "<div>\n",
       "<style scoped>\n",
       "    .dataframe tbody tr th:only-of-type {\n",
       "        vertical-align: middle;\n",
       "    }\n",
       "\n",
       "    .dataframe tbody tr th {\n",
       "        vertical-align: top;\n",
       "    }\n",
       "\n",
       "    .dataframe thead th {\n",
       "        text-align: right;\n",
       "    }\n",
       "</style>\n",
       "<table border=\"1\" class=\"dataframe\">\n",
       "  <thead>\n",
       "    <tr style=\"text-align: right;\">\n",
       "      <th></th>\n",
       "      <th>count</th>\n",
       "      <th>mean</th>\n",
       "      <th>std</th>\n",
       "      <th>min</th>\n",
       "      <th>25%</th>\n",
       "      <th>50%</th>\n",
       "      <th>75%</th>\n",
       "      <th>max</th>\n",
       "    </tr>\n",
       "  </thead>\n",
       "  <tbody>\n",
       "    <tr>\n",
       "      <th>Ingreso</th>\n",
       "      <td>200.0</td>\n",
       "      <td>60624.4466</td>\n",
       "      <td>26262.903416</td>\n",
       "      <td>13458.02</td>\n",
       "      <td>41512.7875</td>\n",
       "      <td>60777.96</td>\n",
       "      <td>77143.865</td>\n",
       "      <td>138584.52</td>\n",
       "    </tr>\n",
       "    <tr>\n",
       "      <th>Puntaje_Gasto</th>\n",
       "      <td>200.0</td>\n",
       "      <td>50.2000</td>\n",
       "      <td>25.823522</td>\n",
       "      <td>1.00</td>\n",
       "      <td>34.7500</td>\n",
       "      <td>50.00</td>\n",
       "      <td>73.000</td>\n",
       "      <td>99.00</td>\n",
       "    </tr>\n",
       "  </tbody>\n",
       "</table>\n",
       "</div>"
      ],
      "text/plain": [
       "               count        mean           std       min         25%  \\\n",
       "Ingreso        200.0  60624.4466  26262.903416  13458.02  41512.7875   \n",
       "Puntaje_Gasto  200.0     50.2000     25.823522      1.00     34.7500   \n",
       "\n",
       "                    50%        75%        max  \n",
       "Ingreso        60777.96  77143.865  138584.52  \n",
       "Puntaje_Gasto     50.00     73.000      99.00  "
      ]
     },
     "metadata": {},
     "output_type": "display_data"
    },
    {
     "name": "stdout",
     "output_type": "stream",
     "text": [
      "\n",
      "Estadísticas por Género:\n"
     ]
    },
    {
     "data": {
      "text/html": [
       "<div>\n",
       "<style scoped>\n",
       "    .dataframe tbody tr th:only-of-type {\n",
       "        vertical-align: middle;\n",
       "    }\n",
       "\n",
       "    .dataframe tbody tr th {\n",
       "        vertical-align: top;\n",
       "    }\n",
       "\n",
       "    .dataframe thead tr th {\n",
       "        text-align: left;\n",
       "    }\n",
       "\n",
       "    .dataframe thead tr:last-of-type th {\n",
       "        text-align: right;\n",
       "    }\n",
       "</style>\n",
       "<table border=\"1\" class=\"dataframe\">\n",
       "  <thead>\n",
       "    <tr>\n",
       "      <th></th>\n",
       "      <th colspan=\"6\" halign=\"left\">Ingreso</th>\n",
       "      <th colspan=\"6\" halign=\"left\">Puntaje_Gasto</th>\n",
       "    </tr>\n",
       "    <tr>\n",
       "      <th></th>\n",
       "      <th>count</th>\n",
       "      <th>mean</th>\n",
       "      <th>std</th>\n",
       "      <th>min</th>\n",
       "      <th>median</th>\n",
       "      <th>max</th>\n",
       "      <th>count</th>\n",
       "      <th>mean</th>\n",
       "      <th>std</th>\n",
       "      <th>min</th>\n",
       "      <th>median</th>\n",
       "      <th>max</th>\n",
       "    </tr>\n",
       "    <tr>\n",
       "      <th>Genero</th>\n",
       "      <th></th>\n",
       "      <th></th>\n",
       "      <th></th>\n",
       "      <th></th>\n",
       "      <th></th>\n",
       "      <th></th>\n",
       "      <th></th>\n",
       "      <th></th>\n",
       "      <th></th>\n",
       "      <th></th>\n",
       "      <th></th>\n",
       "      <th></th>\n",
       "    </tr>\n",
       "  </thead>\n",
       "  <tbody>\n",
       "    <tr>\n",
       "      <th>Hombre</th>\n",
       "      <td>88</td>\n",
       "      <td>62126.660455</td>\n",
       "      <td>26765.492953</td>\n",
       "      <td>13458.02</td>\n",
       "      <td>61706.565</td>\n",
       "      <td>138584.52</td>\n",
       "      <td>88</td>\n",
       "      <td>48.511364</td>\n",
       "      <td>27.89677</td>\n",
       "      <td>1</td>\n",
       "      <td>50.0</td>\n",
       "      <td>97</td>\n",
       "    </tr>\n",
       "    <tr>\n",
       "      <th>Mujer</th>\n",
       "      <td>112</td>\n",
       "      <td>59444.135714</td>\n",
       "      <td>25920.459216</td>\n",
       "      <td>15766.84</td>\n",
       "      <td>59355.305</td>\n",
       "      <td>126685.78</td>\n",
       "      <td>112</td>\n",
       "      <td>51.526786</td>\n",
       "      <td>24.11495</td>\n",
       "      <td>5</td>\n",
       "      <td>50.0</td>\n",
       "      <td>99</td>\n",
       "    </tr>\n",
       "  </tbody>\n",
       "</table>\n",
       "</div>"
      ],
      "text/plain": [
       "       Ingreso                                                              \\\n",
       "         count          mean           std       min     median        max   \n",
       "Genero                                                                       \n",
       "Hombre      88  62126.660455  26765.492953  13458.02  61706.565  138584.52   \n",
       "Mujer      112  59444.135714  25920.459216  15766.84  59355.305  126685.78   \n",
       "\n",
       "       Puntaje_Gasto                                      \n",
       "               count       mean       std min median max  \n",
       "Genero                                                    \n",
       "Hombre            88  48.511364  27.89677   1   50.0  97  \n",
       "Mujer            112  51.526786  24.11495   5   50.0  99  "
      ]
     },
     "metadata": {},
     "output_type": "display_data"
    },
    {
     "name": "stdout",
     "output_type": "stream",
     "text": [
      "\n",
      "Estadísticas por Grupo Etario:\n"
     ]
    },
    {
     "data": {
      "text/html": [
       "<div>\n",
       "<style scoped>\n",
       "    .dataframe tbody tr th:only-of-type {\n",
       "        vertical-align: middle;\n",
       "    }\n",
       "\n",
       "    .dataframe tbody tr th {\n",
       "        vertical-align: top;\n",
       "    }\n",
       "\n",
       "    .dataframe thead tr th {\n",
       "        text-align: left;\n",
       "    }\n",
       "\n",
       "    .dataframe thead tr:last-of-type th {\n",
       "        text-align: right;\n",
       "    }\n",
       "</style>\n",
       "<table border=\"1\" class=\"dataframe\">\n",
       "  <thead>\n",
       "    <tr>\n",
       "      <th></th>\n",
       "      <th colspan=\"6\" halign=\"left\">Ingreso</th>\n",
       "      <th colspan=\"6\" halign=\"left\">Puntaje_Gasto</th>\n",
       "    </tr>\n",
       "    <tr>\n",
       "      <th></th>\n",
       "      <th>count</th>\n",
       "      <th>mean</th>\n",
       "      <th>std</th>\n",
       "      <th>min</th>\n",
       "      <th>median</th>\n",
       "      <th>max</th>\n",
       "      <th>count</th>\n",
       "      <th>mean</th>\n",
       "      <th>std</th>\n",
       "      <th>min</th>\n",
       "      <th>median</th>\n",
       "      <th>max</th>\n",
       "    </tr>\n",
       "    <tr>\n",
       "      <th>Grupo_Etario</th>\n",
       "      <th></th>\n",
       "      <th></th>\n",
       "      <th></th>\n",
       "      <th></th>\n",
       "      <th></th>\n",
       "      <th></th>\n",
       "      <th></th>\n",
       "      <th></th>\n",
       "      <th></th>\n",
       "      <th></th>\n",
       "      <th></th>\n",
       "      <th></th>\n",
       "    </tr>\n",
       "  </thead>\n",
       "  <tbody>\n",
       "    <tr>\n",
       "      <th>18-24</th>\n",
       "      <td>35</td>\n",
       "      <td>44454.795429</td>\n",
       "      <td>20378.208373</td>\n",
       "      <td>13458.02</td>\n",
       "      <td>46455.340</td>\n",
       "      <td>80360.65</td>\n",
       "      <td>35</td>\n",
       "      <td>56.257143</td>\n",
       "      <td>24.659258</td>\n",
       "      <td>5</td>\n",
       "      <td>55.0</td>\n",
       "      <td>94</td>\n",
       "    </tr>\n",
       "    <tr>\n",
       "      <th>25-34</th>\n",
       "      <td>54</td>\n",
       "      <td>71157.328148</td>\n",
       "      <td>27885.788157</td>\n",
       "      <td>19003.52</td>\n",
       "      <td>75824.910</td>\n",
       "      <td>138584.52</td>\n",
       "      <td>54</td>\n",
       "      <td>63.166667</td>\n",
       "      <td>24.283506</td>\n",
       "      <td>1</td>\n",
       "      <td>70.0</td>\n",
       "      <td>97</td>\n",
       "    </tr>\n",
       "    <tr>\n",
       "      <th>35-44</th>\n",
       "      <td>42</td>\n",
       "      <td>66957.096905</td>\n",
       "      <td>27722.049259</td>\n",
       "      <td>18797.16</td>\n",
       "      <td>71638.860</td>\n",
       "      <td>119534.68</td>\n",
       "      <td>42</td>\n",
       "      <td>49.428571</td>\n",
       "      <td>30.700078</td>\n",
       "      <td>1</td>\n",
       "      <td>41.0</td>\n",
       "      <td>99</td>\n",
       "    </tr>\n",
       "    <tr>\n",
       "      <th>45-54</th>\n",
       "      <td>39</td>\n",
       "      <td>58786.491026</td>\n",
       "      <td>24276.268114</td>\n",
       "      <td>24402.32</td>\n",
       "      <td>55041.390</td>\n",
       "      <td>126685.78</td>\n",
       "      <td>39</td>\n",
       "      <td>36.230769</td>\n",
       "      <td>16.261776</td>\n",
       "      <td>4</td>\n",
       "      <td>42.0</td>\n",
       "      <td>59</td>\n",
       "    </tr>\n",
       "    <tr>\n",
       "      <th>55-64</th>\n",
       "      <td>16</td>\n",
       "      <td>56357.093125</td>\n",
       "      <td>22351.828240</td>\n",
       "      <td>18434.74</td>\n",
       "      <td>54718.180</td>\n",
       "      <td>94049.49</td>\n",
       "      <td>16</td>\n",
       "      <td>32.312500</td>\n",
       "      <td>21.752299</td>\n",
       "      <td>3</td>\n",
       "      <td>39.0</td>\n",
       "      <td>60</td>\n",
       "    </tr>\n",
       "    <tr>\n",
       "      <th>65+</th>\n",
       "      <td>14</td>\n",
       "      <td>51420.789286</td>\n",
       "      <td>12686.437083</td>\n",
       "      <td>18437.21</td>\n",
       "      <td>51546.645</td>\n",
       "      <td>64156.37</td>\n",
       "      <td>14</td>\n",
       "      <td>46.714286</td>\n",
       "      <td>11.431593</td>\n",
       "      <td>14</td>\n",
       "      <td>49.0</td>\n",
       "      <td>59</td>\n",
       "    </tr>\n",
       "  </tbody>\n",
       "</table>\n",
       "</div>"
      ],
      "text/plain": [
       "             Ingreso                                                   \\\n",
       "               count          mean           std       min     median   \n",
       "Grupo_Etario                                                            \n",
       "18-24             35  44454.795429  20378.208373  13458.02  46455.340   \n",
       "25-34             54  71157.328148  27885.788157  19003.52  75824.910   \n",
       "35-44             42  66957.096905  27722.049259  18797.16  71638.860   \n",
       "45-54             39  58786.491026  24276.268114  24402.32  55041.390   \n",
       "55-64             16  56357.093125  22351.828240  18434.74  54718.180   \n",
       "65+               14  51420.789286  12686.437083  18437.21  51546.645   \n",
       "\n",
       "                        Puntaje_Gasto                                       \n",
       "                    max         count       mean        std min median max  \n",
       "Grupo_Etario                                                                \n",
       "18-24          80360.65            35  56.257143  24.659258   5   55.0  94  \n",
       "25-34         138584.52            54  63.166667  24.283506   1   70.0  97  \n",
       "35-44         119534.68            42  49.428571  30.700078   1   41.0  99  \n",
       "45-54         126685.78            39  36.230769  16.261776   4   42.0  59  \n",
       "55-64          94049.49            16  32.312500  21.752299   3   39.0  60  \n",
       "65+            64156.37            14  46.714286  11.431593  14   49.0  59  "
      ]
     },
     "metadata": {},
     "output_type": "display_data"
    },
    {
     "data": {
      "image/png": "[encoded data removed]",
      "text/plain": [
       "<Figure size 432x288 with 1 Axes>"
      ]
     },
     "metadata": {
      "needs_background": "light"
     },
     "output_type": "display_data"
    },
    {
     "data": {
      "image/png": "[encoded data removed]",
      "text/plain": [
       "<Figure size 432x288 with 1 Axes>"
      ]
     },
     "metadata": {
      "needs_background": "light"
     },
     "output_type": "display_data"
    },
    {
     "data": {
      "image/png": "[encoded data removed]",
      "text/plain": [
       "<Figure size 432x288 with 1 Axes>"
      ]
     },
     "metadata": {
      "needs_background": "light"
     },
     "output_type": "display_data"
    },
    {
     "data": {
      "image/png": "[encoded data removed]",
      "text/plain": [
       "<Figure size 432x288 with 1 Axes>"
      ]
     },
     "metadata": {
      "needs_background": "light"
     },
     "output_type": "display_data"
    },
    {
     "data": {
      "image/png": "[encoded data removed]",
      "text/plain": [
       "<Figure size 432x288 with 1 Axes>"
      ]
     },
     "metadata": {
      "needs_background": "light"
     },
     "output_type": "display_data"
    },
    {
     "data": {
      "image/png": "[encoded data removed]",
      "text/plain": [
       "<Figure size 432x288 with 1 Axes>"
      ]
     },
     "metadata": {
      "needs_background": "light"
     },
     "output_type": "display_data"
    },
    {
     "data": {
      "image/png": "[encoded data removed]",
      "text/plain": [
       "<Figure size 432x288 with 1 Axes>"
      ]
     },
     "metadata": {
      "needs_background": "light"
     },
     "output_type": "display_data"
    },
    {
     "data": {
      "image/png": "[encoded data removed]",
      "text/plain": [
       "<Figure size 432x288 with 1 Axes>"
      ]
     },
     "metadata": {
      "needs_background": "light"
     },
     "output_type": "display_data"
    }
   ],
   "source": [
    "#duplicamos el dataset para los ejercicios de análisis preliminar\n",
    "df2=df.copy()\n",
    "df2[\"Genero\"] = df2[\"Genero\"].astype(\"category\")\n",
    "# Creamos grupos+\n",
    "bins = [18, 25, 35, 45, 55, 65, np.inf]\n",
    "labels = [\"18-24\", \"25-34\", \"35-44\", \"45-54\", \"55-64\", \"65+\"]\n",
    "df2[\"Grupo_Etario\"] = pd.cut(df2[\"Edad\"], bins=bins, labels=labels, right=False, include_lowest=True, ordered=True)\n",
    "\n",
    "#estadísticas descriptivas\n",
    "desc_global = df2[[\"Ingreso\", \"Puntaje_Gasto\"]].describe().T\n",
    "print(\"Estadísticas descriptivas generales:\")\n",
    "display(desc_global)\n",
    "\n",
    "# Por género\n",
    "print(\"\\nEstadísticas por Género:\")\n",
    "display(df2.groupby(\"Genero\")[[\"Ingreso\", \"Puntaje_Gasto\"]].agg(['count','mean','std','min','median','max']))\n",
    "\n",
    "# Por grupo etario\n",
    "print(\"\\nEstadísticas por Grupo Etario:\")\n",
    "display(df2.groupby(\"Grupo_Etario\")[[\"Ingreso\", \"Puntaje_Gasto\"]].agg(['count','mean','std','min','median','max']))\n",
    "\n",
    "import matplotlib.pyplot as plt\n",
    "\n",
    "num_cols = df.select_dtypes(include=[np.number]).columns.tolist()\n",
    "cat_cols = [c for c in df.columns if c not in num_cols]\n",
    "\n",
    "\n",
    "for c in num_cols:\n",
    "    plt.figure()\n",
    "    df[c].hist(bins=30)\n",
    "    plt.title(f\"Histograma - {c}\")\n",
    "    plt.xlabel(c); plt.ylabel(\"Frecuencia\")\n",
    "    plt.show()\n",
    "\n",
    "    plt.figure()\n",
    "    df[c].plot(kind='box')\n",
    "    plt.title(f\"Boxplot - {c}\")\n",
    "    plt.show()"
   ]
  },
  {
   "cell_type": "markdown",
   "metadata": {},
   "source": [
    "En las estadisticas descriptivas generales, se aprecia que la edad de los clientes va entre los 18 a 70 años, con una distribución de ingreso con un comportamiento que se aproxima a la campana de la distribución normal, con lo que parece algunos outliers de grandes ingresos, que se confirma en la distribución por cuartiles donde el máximo es casi el doble de los ingresos del 75% de las personas de la muestra. En términos de género, se observa que hay una distribución desigual entre hombres y mujeres, donde si bien en términos de promedio las mujeres tienen menos ingreso, tienden a tener un ingreso minimo superior, y un puntaje crediticio mejor que el de los hombres, por lo que de manera preliminar, pareciera no haber una gran diferencia. "
   ]
  },
  {
   "cell_type": "markdown",
   "metadata": {},
   "source": [
    "Controlando por rango etario, encontramos que la mayoría de las observaciones se concentran entre los 25 a 54 años. Un elemento interesante, es que entre los 18  a 44 se encuentran las personas con el mejor puntaje crediticio, lo cual podría obedecer a que durante esa epoca de la vida una persona puede estar devengando los mayores ingresos, o asumiendo menor volumen de deuda mientras consolida su patrimonio. "
   ]
  },
  {
   "cell_type": "code",
   "execution_count": 10,
   "metadata": {},
   "outputs": [],
   "source": [
    "from scipy import stats"
   ]
  },
  {
   "cell_type": "code",
   "execution_count": 12,
   "metadata": {},
   "outputs": [
    {
     "name": "stdout",
     "output_type": "stream",
     "text": [
      "t-test Ingreso Hombre vs Mujer: t=0.713, p=0.4765\n"
     ]
    }
   ],
   "source": [
    "#hacmeos una prueba t rapida para determinar si la diferencia en ingresos entre hombres y mujeres es significativa\n",
    "if df2[\"Genero\"].nunique() == 2:\n",
    "    g1, g2 = df2[\"Genero\"].cat.categories\n",
    "    x = df2.loc[df2[\"Genero\"] == g1, \"Ingreso\"]\n",
    "    y = df2.loc[df2[\"Genero\"] == g2, \"Ingreso\"]\n",
    "    tstat, pval = stats.ttest_ind(x, y, equal_var=False)\n",
    "    print(f\"t-test Ingreso {g1} vs {g2}: t={tstat:.3f}, p={pval:.4g}\")\n"
   ]
  },
  {
   "cell_type": "markdown",
   "metadata": {},
   "source": [
    "La prueba t que se realiza sobre el ingreso entre hombres y mujeres pareciera no ser significativas, muy en línea con lo identificado en el inspección descriptiva inicial. "
   ]
  },
  {
   "cell_type": "markdown",
   "metadata": {},
   "source": [
    "### 3. Clustering Jerárquico\n",
    "\n",
    "#### 3.1. Dendrogramas\n",
    "\n",
    "Agrupe a los clientes utilizando sólo dos variables: su ingreso y el puntaje de gastos. Para ello retenga estas dos variables, estandarízelas, construya y grafique un dendograma. Para la construcción del dendrograma utilice el enlace 'ward' y la distancia euclidiana. Explique la importancia de estandarizar los datos."
   ]
  },
  {
   "cell_type": "code",
   "execution_count": 13,
   "metadata": {
    "ExecuteTime": {
     "end_time": "2023-07-16T16:29:24.649171+00:00",
     "start_time": "2023-07-16T16:29:21.788267+00:00"
    },
    "noteable": {
     "cell_type": "code",
     "output_collection_id": "3ac79bd2-4963-40c4-a4e8-784bcb39bea0"
    }
   },
   "outputs": [],
   "source": [
    "#selección y estandarización\n",
    "from sklearn.preprocessing import StandardScaler\n",
    "from sklearn.cluster import AgglomerativeClustering\n",
    "from scipy.cluster.hierarchy import linkage, dendrogram, fcluster\n",
    "\n",
    "X_raw = df[[\"Ingreso\", \"Puntaje_Gasto\"]].copy()\n",
    "scaler = StandardScaler()\n",
    "X_std = scaler.fit_transform(X_raw) \n"
   ]
  },
  {
   "cell_type": "markdown",
   "metadata": {},
   "source": [
    "Se hizo una copia adicional del DF para el ejercicio, se estandarizó ya que tanto ingreso como puntaje tienen escalas diferentes, lo cual es clave abordar, ya que la variable con mayor escala tiende a dominar las distancias y sesgar los clusters"
   ]
  },
  {
   "cell_type": "code",
   "execution_count": 16,
   "metadata": {},
   "outputs": [
    {
     "data": {
      "image/png": "[encoded data removed]",
      "text/plain": [
       "<Figure size 720x360 with 1 Axes>"
      ]
     },
     "metadata": {
      "needs_background": "light"
     },
     "output_type": "display_data"
    }
   ],
   "source": [
    "# construimos dendograma con ward\n",
    "\n",
    "Z = linkage(X_std, method=\"ward\")\n",
    "\n",
    "plt.figure(figsize=(10, 5))\n",
    "dendrogram(Z, truncate_mode=None, no_labels=False, color_threshold=0)\n",
    "plt.title(\"Dendrograma (Ward, distancia euclidiana) - Variables estandarizadas\")\n",
    "plt.xlabel(\"Observaciones\")\n",
    "plt.ylabel(\"Distancia (altura)\")\n",
    "plt.show()"
   ]
  },
  {
   "cell_type": "markdown",
   "metadata": {},
   "source": [
    "El dendograma sugiere que aproximadamente entre 3 o 4 clusters de clientes, por lo que a esa distancia la población de clientes podría llegarse a segmentar. "
   ]
  },
  {
   "cell_type": "markdown",
   "metadata": {},
   "source": [
    "#### 3.2. Número de clusters\n",
    "\n",
    "Retenga el número de clusters que se obtengan luego de fijar la distancia en 6."
   ]
  },
  {
   "cell_type": "code",
   "execution_count": 17,
   "metadata": {
    "ExecuteTime": {
     "end_time": "2023-07-16T16:30:33.403710+00:00",
     "start_time": "2023-07-16T16:30:33.241077+00:00"
    },
    "noteable": {
     "cell_type": "code",
     "output_collection_id": "254eb5c1-b7d7-48c0-a13c-f5073e06273b"
    }
   },
   "outputs": [
    {
     "name": "stdout",
     "output_type": "stream",
     "text": [
      "Clusters retenidos 6.0: K = 5\n"
     ]
    }
   ],
   "source": [
    "dist_cut = 6.0\n",
    "# fcluster con criterio 'distance' asigna etiquetas al cortar el dendrograma a esa altura\n",
    "labels_cut = fcluster(Z, t=dist_cut, criterion='distance')\n",
    "k_found = len(np.unique(labels_cut))\n",
    "print(f\"Clusters retenidos {dist_cut}: K = {k_found}\")"
   ]
  },
  {
   "cell_type": "markdown",
   "metadata": {},
   "source": [
    "Fijando la distancia a 6, encontramos que los clusters retenidos deberían ser 5"
   ]
  },
  {
   "cell_type": "markdown",
   "metadata": {},
   "source": [
    "#### 3.3. Algoritmo Jerárquico Aglomerativo\n",
    "\n",
    "Utilizando el número de clusters encontrados en el paso anterior, aplique el algoritmo jerárquico aglomerativo, utilizando el enlace 'ward' y la distancia euclidiana. Describa los grupos encontrados, en que grupo o grupos concentraría su estrategia de marketing y por qué?"
   ]
  },
  {
   "cell_type": "code",
   "execution_count": 19,
   "metadata": {
    "ExecuteTime": {
     "end_time": "2023-07-16T16:31:07.364446+00:00",
     "start_time": "2023-07-16T16:31:07.047668+00:00"
    },
    "datalink": {
     "cb4d41c2-7468-4179-b3af-463accbe29a6": {
      "applied_filters": [],
      "dataframe_info": {
       "default_index_used": true,
       "orig_num_cols": 8,
       "orig_num_rows": 5,
       "orig_size_bytes": 525,
       "truncated_num_cols": 8,
       "truncated_num_rows": 5,
       "truncated_size_bytes": 525,
       "truncated_string_columns": []
      },
      "display_id": "cb4d41c2-7468-4179-b3af-463accbe29a6",
      "dx_settings": {
       "ALLOW_NOTEABLE_ATTRS": true,
       "COLUMN_SAMPLING_METHOD": "outer",
       "DB_LOCATION": ":memory:",
       "DEV_MODE": false,
       "DISPLAY_MAX_COLUMNS": 100,
       "DISPLAY_MAX_ROWS": 50000,
       "DISPLAY_MODE": "simple",
       "ENABLE_ASSIGNMENT": true,
       "ENABLE_DATALINK": true,
       "FLATTEN_COLUMN_VALUES": true,
       "FLATTEN_INDEX_VALUES": false,
       "GENERATE_DEX_METADATA": false,
       "HTML_TABLE_SCHEMA": false,
       "LOG_LEVEL": 30,
       "MAX_RENDER_SIZE_BYTES": 104857600,
       "MAX_STRING_LENGTH": 250,
       "NUM_PAST_SAMPLES_TRACKED": 3,
       "RANDOM_STATE": 12648430,
       "RESET_INDEX_VALUES": false,
       "ROW_SAMPLING_METHOD": "random",
       "SAMPLING_FACTOR": 0.1,
       "SAMPLING_METHOD": "random",
       "STRINGIFY_COLUMN_VALUES": true,
       "STRINGIFY_INDEX_VALUES": false
      },
      "sample_history": [],
      "sampling_time": "2023-07-16T16:31:07.204488",
      "user_variable_name": null,
      "variable_name": "unk_dataframe_9913f7676cc043a4a00b184116fd4b2c"
     }
    },
    "noteable": {
     "cell_type": "code",
     "output_collection_id": "a8fca9be-97b0-456e-92df-a88e7598e581"
    }
   },
   "outputs": [
    {
     "name": "stdout",
     "output_type": "stream",
     "text": [
      "\n",
      "Distribución de observaciones por cluster:\n"
     ]
    },
    {
     "data": {
      "text/plain": [
       "0    38\n",
       "1    26\n",
       "2    39\n",
       "3    23\n",
       "4    74\n",
       "Name: cluster_h, dtype: int64"
      ]
     },
     "metadata": {},
     "output_type": "display_data"
    }
   ],
   "source": [
    "#aplicación del modelo jerárquico aglomerativo\n",
    "model_h = AgglomerativeClustering(n_clusters=k_found, linkage='ward')\n",
    "labels_h = model_h.fit_predict(X_std)\n",
    "\n",
    "df_h = df.copy()\n",
    "df_h[\"cluster_h\"] = labels_h\n",
    "\n",
    "print(\"\\nDistribución de observaciones por cluster:\")\n",
    "display(df_h[\"cluster_h\"].value_counts().sort_index())"
   ]
  },
  {
   "cell_type": "markdown",
   "metadata": {},
   "source": [
    "Con la aplicación del clustering jerárquico aglomerativo, encontramos que la base de datos no es homogenea, ya que encontramos una distribución relativamente desigual entre clusters. Esto podría obedecer a la existencia de perfiles diferenciados, tanto en ingreso y su comportamiento de gasto, lo cual cobra sentido si lo revisamos inicialmente a la luz de las estadísticas descriptivas. "
   ]
  },
  {
   "cell_type": "markdown",
   "metadata": {},
   "source": [
    "Para determinar los segmentos en los cuales concentraría la estrategia, voy a calcular la tabla de datos de los clusters, a fin de determinar que grupos presentan la categoría más interesante para realizar la estrategia de marketing"
   ]
  },
  {
   "cell_type": "code",
   "execution_count": 21,
   "metadata": {},
   "outputs": [
    {
     "name": "stdout",
     "output_type": "stream",
     "text": [
      "\n",
      "Clusters ordenados por ingreso y gasto promedio:\n"
     ]
    },
    {
     "data": {
      "text/html": [
       "<div>\n",
       "<style scoped>\n",
       "    .dataframe tbody tr th:only-of-type {\n",
       "        vertical-align: middle;\n",
       "    }\n",
       "\n",
       "    .dataframe tbody tr th {\n",
       "        vertical-align: top;\n",
       "    }\n",
       "\n",
       "    .dataframe thead th {\n",
       "        text-align: right;\n",
       "    }\n",
       "</style>\n",
       "<table border=\"1\" class=\"dataframe\">\n",
       "  <thead>\n",
       "    <tr style=\"text-align: right;\">\n",
       "      <th></th>\n",
       "      <th>count</th>\n",
       "      <th>ingreso_prom</th>\n",
       "      <th>gasto_prom</th>\n",
       "      <th>ingreso_min</th>\n",
       "      <th>ingreso_max</th>\n",
       "      <th>gasto_min</th>\n",
       "      <th>gasto_max</th>\n",
       "    </tr>\n",
       "    <tr>\n",
       "      <th>cluster_h</th>\n",
       "      <th></th>\n",
       "      <th></th>\n",
       "      <th></th>\n",
       "      <th></th>\n",
       "      <th></th>\n",
       "      <th></th>\n",
       "      <th></th>\n",
       "    </tr>\n",
       "  </thead>\n",
       "  <tbody>\n",
       "    <tr>\n",
       "      <th>0</th>\n",
       "      <td>38</td>\n",
       "      <td>87055.07</td>\n",
       "      <td>18.63</td>\n",
       "      <td>70888.72</td>\n",
       "      <td>138584.52</td>\n",
       "      <td>1</td>\n",
       "      <td>40</td>\n",
       "    </tr>\n",
       "    <tr>\n",
       "      <th>2</th>\n",
       "      <td>39</td>\n",
       "      <td>86537.50</td>\n",
       "      <td>82.13</td>\n",
       "      <td>68486.79</td>\n",
       "      <td>137838.57</td>\n",
       "      <td>63</td>\n",
       "      <td>97</td>\n",
       "    </tr>\n",
       "    <tr>\n",
       "      <th>4</th>\n",
       "      <td>74</td>\n",
       "      <td>55451.26</td>\n",
       "      <td>50.22</td>\n",
       "      <td>40218.68</td>\n",
       "      <td>70469.66</td>\n",
       "      <td>40</td>\n",
       "      <td>60</td>\n",
       "    </tr>\n",
       "    <tr>\n",
       "      <th>1</th>\n",
       "      <td>26</td>\n",
       "      <td>28274.67</td>\n",
       "      <td>23.31</td>\n",
       "      <td>13458.02</td>\n",
       "      <td>43155.28</td>\n",
       "      <td>3</td>\n",
       "      <td>42</td>\n",
       "    </tr>\n",
       "    <tr>\n",
       "      <th>3</th>\n",
       "      <td>23</td>\n",
       "      <td>26230.42</td>\n",
       "      <td>78.57</td>\n",
       "      <td>15766.84</td>\n",
       "      <td>38950.66</td>\n",
       "      <td>61</td>\n",
       "      <td>99</td>\n",
       "    </tr>\n",
       "  </tbody>\n",
       "</table>\n",
       "</div>"
      ],
      "text/plain": [
       "           count  ingreso_prom  gasto_prom  ingreso_min  ingreso_max  \\\n",
       "cluster_h                                                              \n",
       "0             38      87055.07       18.63     70888.72    138584.52   \n",
       "2             39      86537.50       82.13     68486.79    137838.57   \n",
       "4             74      55451.26       50.22     40218.68     70469.66   \n",
       "1             26      28274.67       23.31     13458.02     43155.28   \n",
       "3             23      26230.42       78.57     15766.84     38950.66   \n",
       "\n",
       "           gasto_min  gasto_max  \n",
       "cluster_h                        \n",
       "0                  1         40  \n",
       "2                 63         97  \n",
       "4                 40         60  \n",
       "1                  3         42  \n",
       "3                 61         99  "
      ]
     },
     "metadata": {},
     "output_type": "display_data"
    }
   ],
   "source": [
    "perfil_clusters = (\n",
    "    df_h.groupby(\"cluster_h\")[[\"Ingreso\", \"Puntaje_Gasto\"]]\n",
    "        .agg(\n",
    "            count=(\"Ingreso\", \"size\"),\n",
    "            ingreso_prom=(\"Ingreso\", \"mean\"),\n",
    "            gasto_prom=(\"Puntaje_Gasto\", \"mean\"),\n",
    "            ingreso_min=(\"Ingreso\", \"min\"),\n",
    "            ingreso_max=(\"Ingreso\", \"max\"),\n",
    "            gasto_min=(\"Puntaje_Gasto\", \"min\"),\n",
    "            gasto_max=(\"Puntaje_Gasto\", \"max\")\n",
    "        )\n",
    "        .round(2)\n",
    ")\n",
    "\n",
    "# Ordenamos\n",
    "perfil_clusters_sorted = perfil_clusters.sort_values(by=[\"ingreso_prom\",\"gasto_prom\"], ascending=False)\n",
    "print(\"\\nClusters ordenados por ingreso y gasto promedio:\")\n",
    "display(perfil_clusters_sorted)\n"
   ]
  },
  {
   "cell_type": "markdown",
   "metadata": {},
   "source": [
    "Encontramos que los clusters 0 y 2 tienen el mayor potencial para ser el grupo para la estrategia de marketing. Claramente el grupo 2 es el que más potencial tiene, ya que es un segmento de altos ingresos y altos gastos, y el 0 es donde hay un potencial, ya que sus ingresos son altos, pero su proporción de gasto no está a la par. "
   ]
  },
  {
   "cell_type": "markdown",
   "metadata": {},
   "source": [
    "### 4. DBSCAN\n",
    "\n",
    "Implemente DBSCAN, al igual que el punto anterior sólo dos variables: su ingreso y el puntaje de gastos. Al implementar  justifique su elección de `min_samples` y `eps`. ¿Cuántos grupos o clusters encuentra? ¿Cuáles son su características? ¿Cambiaría su estrategia de marketing respecto al punto anterior? Justifique su respuesta."
   ]
  },
  {
   "cell_type": "code",
   "execution_count": 25,
   "metadata": {},
   "outputs": [
    {
     "data": {
      "image/png": "[encoded data removed]",
      "text/plain": [
       "<Figure size 504x288 with 1 Axes>"
      ]
     },
     "metadata": {
      "needs_background": "light"
     },
     "output_type": "display_data"
    }
   ],
   "source": [
    "from sklearn.neighbors import NearestNeighbors\n",
    "from sklearn.cluster import DBSCAN\n",
    "from sklearn.metrics import silhouette_score\n",
    "\n",
    "#como lo señala el laboratorio de prueba, no existe un método unificado para la elección de min_samples, y esto depende\n",
    "#principalmente del conocimiento de quien implementa el algoritmo. Ahora bien, siguiendo la sugerencia de Ester et al. (1996),\n",
    "# al ser un matriz con dos dimensiones, se escogerá el min_samples=2\n",
    "\n",
    "min_samples=2\n",
    "\n",
    "nbrs = NearestNeighbors(n_neighbors=min_samples)\n",
    "nbrs.fit(X_std)\n",
    "distances, indices = nbrs.kneighbors(X_std)\n",
    "\n",
    "# Distancia al k-ésimo vecino\n",
    "k_dist = np.sort(distances[:, -1])\n",
    "\n",
    "plt.figure(figsize=(7,4))\n",
    "plt.plot(k_dist)\n",
    "plt.title(f\"Curva k-distance (k = {min_samples})\")\n",
    "plt.xlabel(\"Puntos ordenados\")\n",
    "plt.ylabel(\"Distancia al k-ésimo vecino\")\n",
    "plt.grid(True, alpha=0.3)\n",
    "plt.show()"
   ]
  },
  {
   "cell_type": "markdown",
   "metadata": {},
   "source": [
    "Para la estimación del parámetro eps, se utilizó la curva k-distance, calculando la distancia al 2º vecino. La gráfica mostró un crecimiento suave hasta aproximadamente 0.20–0.25, a partir de donde la pendiente se incrementa con mayor rapidez, señalando el punto de máxima curvatura. Por ello, se seleccionará un valor de eps cercano a 0.22, que permite balancear la detección de clusters sin que la mayoría de los puntos se clasifiquen como ruido ni que todos se unan en un único grupo. Ahora si procedemos a realizar el DBSCAN con los parametros identificados"
   ]
  },
  {
   "cell_type": "code",
   "execution_count": 28,
   "metadata": {},
   "outputs": [],
   "source": [
    "eps=0.22\n",
    "\n",
    "db = DBSCAN(eps=eps, min_samples=min_samples)\n",
    "labels = db.fit_predict(X_std)\n",
    "\n",
    "# Añadimos resultados al dataframe original\n",
    "df_db = df.copy()\n",
    "df_db[\"cluster_db\"] = labels"
   ]
  },
  {
   "cell_type": "code",
   "execution_count": 30,
   "metadata": {},
   "outputs": [
    {
     "name": "stdout",
     "output_type": "stream",
     "text": [
      "Número de clusters detectados (excluyendo ruido): 19\n",
      "Distribución de observaciones por cluster:\n"
     ]
    },
    {
     "data": {
      "text/plain": [
       "-1     17\n",
       " 0     11\n",
       " 1     79\n",
       " 2     21\n",
       " 3      2\n",
       " 4     22\n",
       " 5      7\n",
       " 6      2\n",
       " 7      6\n",
       " 8      2\n",
       " 9      6\n",
       " 10     2\n",
       " 11     3\n",
       " 12     2\n",
       " 13     3\n",
       " 14     3\n",
       " 15     3\n",
       " 16     5\n",
       " 17     2\n",
       " 18     2\n",
       "Name: cluster_db, dtype: int64"
      ]
     },
     "metadata": {},
     "output_type": "display_data"
    }
   ],
   "source": [
    "# Número de clusters y ruido\n",
    "cluster_ids = [c for c in np.unique(labels) if c != -1]\n",
    "n_clusters = len(cluster_ids)\n",
    "\n",
    "print(f\"Número de clusters detectados (excluyendo ruido): {n_clusters}\")\n",
    "\n",
    "print(\"Distribución de observaciones por cluster:\")\n",
    "display(df_db[\"cluster_db\"].value_counts().sort_index())\n",
    "\n"
   ]
  },
  {
   "cell_type": "markdown",
   "metadata": {},
   "source": [
    "Con los parametros definidos, el alogritmo encontró 19 clusters, que tienen la distribución que se señala en la tabulación. En principio, pareciera que solo son realmente clusters los 0,1,2 y 4."
   ]
  },
  {
   "cell_type": "code",
   "execution_count": 32,
   "metadata": {},
   "outputs": [
    {
     "name": "stdout",
     "output_type": "stream",
     "text": [
      "\n",
      "Perfil de clusters (medias/min/max en escala original):\n"
     ]
    },
    {
     "data": {
      "text/html": [
       "<div>\n",
       "<style scoped>\n",
       "    .dataframe tbody tr th:only-of-type {\n",
       "        vertical-align: middle;\n",
       "    }\n",
       "\n",
       "    .dataframe tbody tr th {\n",
       "        vertical-align: top;\n",
       "    }\n",
       "\n",
       "    .dataframe thead th {\n",
       "        text-align: right;\n",
       "    }\n",
       "</style>\n",
       "<table border=\"1\" class=\"dataframe\">\n",
       "  <thead>\n",
       "    <tr style=\"text-align: right;\">\n",
       "      <th></th>\n",
       "      <th>count</th>\n",
       "      <th>ingreso_prom</th>\n",
       "      <th>gasto_prom</th>\n",
       "      <th>ingreso_min</th>\n",
       "      <th>ingreso_max</th>\n",
       "      <th>gasto_min</th>\n",
       "      <th>gasto_max</th>\n",
       "    </tr>\n",
       "    <tr>\n",
       "      <th>cluster_db</th>\n",
       "      <th></th>\n",
       "      <th></th>\n",
       "      <th></th>\n",
       "      <th></th>\n",
       "      <th></th>\n",
       "      <th></th>\n",
       "      <th></th>\n",
       "    </tr>\n",
       "  </thead>\n",
       "  <tbody>\n",
       "    <tr>\n",
       "      <th>0</th>\n",
       "      <td>11</td>\n",
       "      <td>22761.15</td>\n",
       "      <td>75.36</td>\n",
       "      <td>15766.84</td>\n",
       "      <td>35458.14</td>\n",
       "      <td>72</td>\n",
       "      <td>81</td>\n",
       "    </tr>\n",
       "    <tr>\n",
       "      <th>1</th>\n",
       "      <td>79</td>\n",
       "      <td>54485.16</td>\n",
       "      <td>50.22</td>\n",
       "      <td>38599.28</td>\n",
       "      <td>70469.66</td>\n",
       "      <td>40</td>\n",
       "      <td>65</td>\n",
       "    </tr>\n",
       "    <tr>\n",
       "      <th>2</th>\n",
       "      <td>21</td>\n",
       "      <td>74763.38</td>\n",
       "      <td>82.76</td>\n",
       "      <td>68486.79</td>\n",
       "      <td>80495.35</td>\n",
       "      <td>71</td>\n",
       "      <td>97</td>\n",
       "    </tr>\n",
       "    <tr>\n",
       "      <th>3</th>\n",
       "      <td>2</td>\n",
       "      <td>103001.44</td>\n",
       "      <td>68.50</td>\n",
       "      <td>102348.09</td>\n",
       "      <td>103654.79</td>\n",
       "      <td>68</td>\n",
       "      <td>69</td>\n",
       "    </tr>\n",
       "    <tr>\n",
       "      <th>4</th>\n",
       "      <td>22</td>\n",
       "      <td>81606.50</td>\n",
       "      <td>11.73</td>\n",
       "      <td>71651.08</td>\n",
       "      <td>101102.93</td>\n",
       "      <td>1</td>\n",
       "      <td>22</td>\n",
       "    </tr>\n",
       "    <tr>\n",
       "      <th>5</th>\n",
       "      <td>7</td>\n",
       "      <td>22674.71</td>\n",
       "      <td>34.43</td>\n",
       "      <td>13458.02</td>\n",
       "      <td>29740.62</td>\n",
       "      <td>29</td>\n",
       "      <td>40</td>\n",
       "    </tr>\n",
       "    <tr>\n",
       "      <th>6</th>\n",
       "      <td>2</td>\n",
       "      <td>97258.31</td>\n",
       "      <td>87.00</td>\n",
       "      <td>96478.70</td>\n",
       "      <td>98037.92</td>\n",
       "      <td>86</td>\n",
       "      <td>88</td>\n",
       "    </tr>\n",
       "    <tr>\n",
       "      <th>7</th>\n",
       "      <td>6</td>\n",
       "      <td>74504.70</td>\n",
       "      <td>34.83</td>\n",
       "      <td>70888.72</td>\n",
       "      <td>80565.01</td>\n",
       "      <td>29</td>\n",
       "      <td>40</td>\n",
       "    </tr>\n",
       "    <tr>\n",
       "      <th>8</th>\n",
       "      <td>2</td>\n",
       "      <td>39320.06</td>\n",
       "      <td>27.00</td>\n",
       "      <td>38392.92</td>\n",
       "      <td>40247.19</td>\n",
       "      <td>26</td>\n",
       "      <td>28</td>\n",
       "    </tr>\n",
       "    <tr>\n",
       "      <th>9</th>\n",
       "      <td>6</td>\n",
       "      <td>23481.34</td>\n",
       "      <td>4.67</td>\n",
       "      <td>18284.38</td>\n",
       "      <td>30542.08</td>\n",
       "      <td>3</td>\n",
       "      <td>6</td>\n",
       "    </tr>\n",
       "    <tr>\n",
       "      <th>10</th>\n",
       "      <td>2</td>\n",
       "      <td>86207.74</td>\n",
       "      <td>26.50</td>\n",
       "      <td>84897.38</td>\n",
       "      <td>87518.11</td>\n",
       "      <td>26</td>\n",
       "      <td>27</td>\n",
       "    </tr>\n",
       "    <tr>\n",
       "      <th>11</th>\n",
       "      <td>3</td>\n",
       "      <td>20556.26</td>\n",
       "      <td>97.00</td>\n",
       "      <td>19113.29</td>\n",
       "      <td>22557.11</td>\n",
       "      <td>94</td>\n",
       "      <td>99</td>\n",
       "    </tr>\n",
       "    <tr>\n",
       "      <th>12</th>\n",
       "      <td>2</td>\n",
       "      <td>86177.08</td>\n",
       "      <td>75.00</td>\n",
       "      <td>85808.16</td>\n",
       "      <td>86546.01</td>\n",
       "      <td>75</td>\n",
       "      <td>75</td>\n",
       "    </tr>\n",
       "    <tr>\n",
       "      <th>13</th>\n",
       "      <td>3</td>\n",
       "      <td>88788.61</td>\n",
       "      <td>92.33</td>\n",
       "      <td>85894.53</td>\n",
       "      <td>91426.18</td>\n",
       "      <td>90</td>\n",
       "      <td>95</td>\n",
       "    </tr>\n",
       "    <tr>\n",
       "      <th>14</th>\n",
       "      <td>3</td>\n",
       "      <td>33061.56</td>\n",
       "      <td>15.00</td>\n",
       "      <td>30098.74</td>\n",
       "      <td>35034.66</td>\n",
       "      <td>14</td>\n",
       "      <td>17</td>\n",
       "    </tr>\n",
       "    <tr>\n",
       "      <th>15</th>\n",
       "      <td>3</td>\n",
       "      <td>18950.68</td>\n",
       "      <td>14.00</td>\n",
       "      <td>18437.21</td>\n",
       "      <td>19617.67</td>\n",
       "      <td>13</td>\n",
       "      <td>15</td>\n",
       "    </tr>\n",
       "    <tr>\n",
       "      <th>16</th>\n",
       "      <td>5</td>\n",
       "      <td>32781.03</td>\n",
       "      <td>86.80</td>\n",
       "      <td>29007.82</td>\n",
       "      <td>37682.87</td>\n",
       "      <td>81</td>\n",
       "      <td>92</td>\n",
       "    </tr>\n",
       "    <tr>\n",
       "      <th>17</th>\n",
       "      <td>2</td>\n",
       "      <td>38734.48</td>\n",
       "      <td>35.50</td>\n",
       "      <td>37926.15</td>\n",
       "      <td>39542.81</td>\n",
       "      <td>35</td>\n",
       "      <td>36</td>\n",
       "    </tr>\n",
       "    <tr>\n",
       "      <th>18</th>\n",
       "      <td>2</td>\n",
       "      <td>100461.53</td>\n",
       "      <td>23.50</td>\n",
       "      <td>98279.31</td>\n",
       "      <td>102643.75</td>\n",
       "      <td>23</td>\n",
       "      <td>24</td>\n",
       "    </tr>\n",
       "  </tbody>\n",
       "</table>\n",
       "</div>"
      ],
      "text/plain": [
       "            count  ingreso_prom  gasto_prom  ingreso_min  ingreso_max  \\\n",
       "cluster_db                                                              \n",
       "0              11      22761.15       75.36     15766.84     35458.14   \n",
       "1              79      54485.16       50.22     38599.28     70469.66   \n",
       "2              21      74763.38       82.76     68486.79     80495.35   \n",
       "3               2     103001.44       68.50    102348.09    103654.79   \n",
       "4              22      81606.50       11.73     71651.08    101102.93   \n",
       "5               7      22674.71       34.43     13458.02     29740.62   \n",
       "6               2      97258.31       87.00     96478.70     98037.92   \n",
       "7               6      74504.70       34.83     70888.72     80565.01   \n",
       "8               2      39320.06       27.00     38392.92     40247.19   \n",
       "9               6      23481.34        4.67     18284.38     30542.08   \n",
       "10              2      86207.74       26.50     84897.38     87518.11   \n",
       "11              3      20556.26       97.00     19113.29     22557.11   \n",
       "12              2      86177.08       75.00     85808.16     86546.01   \n",
       "13              3      88788.61       92.33     85894.53     91426.18   \n",
       "14              3      33061.56       15.00     30098.74     35034.66   \n",
       "15              3      18950.68       14.00     18437.21     19617.67   \n",
       "16              5      32781.03       86.80     29007.82     37682.87   \n",
       "17              2      38734.48       35.50     37926.15     39542.81   \n",
       "18              2     100461.53       23.50     98279.31    102643.75   \n",
       "\n",
       "            gasto_min  gasto_max  \n",
       "cluster_db                        \n",
       "0                  72         81  \n",
       "1                  40         65  \n",
       "2                  71         97  \n",
       "3                  68         69  \n",
       "4                   1         22  \n",
       "5                  29         40  \n",
       "6                  86         88  \n",
       "7                  29         40  \n",
       "8                  26         28  \n",
       "9                   3          6  \n",
       "10                 26         27  \n",
       "11                 94         99  \n",
       "12                 75         75  \n",
       "13                 90         95  \n",
       "14                 14         17  \n",
       "15                 13         15  \n",
       "16                 81         92  \n",
       "17                 35         36  \n",
       "18                 23         24  "
      ]
     },
     "metadata": {},
     "output_type": "display_data"
    },
    {
     "data": {
      "image/png": "[encoded data removed]",
      "text/plain": [
       "<Figure size 432x360 with 1 Axes>"
      ]
     },
     "metadata": {
      "needs_background": "light"
     },
     "output_type": "display_data"
    }
   ],
   "source": [
    "#caracterización clusters\n",
    "if n_clusters > 0:\n",
    "    perfil = (\n",
    "        df_db[df_db[\"cluster_db\"] != -1]\n",
    "        .groupby(\"cluster_db\")[[\"Ingreso\",\"Puntaje_Gasto\"]]\n",
    "        .agg(count=(\"Ingreso\",\"size\"),\n",
    "             ingreso_prom=(\"Ingreso\",\"mean\"),\n",
    "             gasto_prom=(\"Puntaje_Gasto\",\"mean\"),\n",
    "             ingreso_min=(\"Ingreso\",\"min\"),\n",
    "             ingreso_max=(\"Ingreso\",\"max\"),\n",
    "             gasto_min=(\"Puntaje_Gasto\",\"min\"),\n",
    "             gasto_max=(\"Puntaje_Gasto\",\"max\"))\n",
    "        .round(2)\n",
    "    )\n",
    "    print(\"\\nPerfil de clusters (medias/min/max en escala original):\")\n",
    "    display(perfil)\n",
    "\n",
    "#Visualización\n",
    "\n",
    "plt.figure(figsize=(6,5))\n",
    "mask_noise = (labels == -1)\n",
    "plt.scatter(df_db.loc[mask_noise, \"Ingreso\"],\n",
    "            df_db.loc[mask_noise, \"Puntaje_Gasto\"],\n",
    "            s=18, alpha=0.5, label=\"Ruido (-1)\", c=\"black\")\n",
    "\n",
    "for cl in cluster_ids:\n",
    "    m = (labels == cl)\n",
    "    plt.scatter(df_db.loc[m, \"Ingreso\"],\n",
    "                df_db.loc[m, \"Puntaje_Gasto\"],\n",
    "                s=26, label=f\"Cluster {cl}\")\n",
    "\n",
    "plt.title(f\"DBSCAN (eps={eps}, min_samples={min_samples})\")\n",
    "plt.xlabel(\"Ingreso\")\n",
    "plt.ylabel(\"Puntaje_Gasto\")\n",
    "plt.legend()\n",
    "plt.show()"
   ]
  },
  {
   "cell_type": "markdown",
   "metadata": {},
   "source": [
    "Aplicando DBSCAN se identificaron 19 distintos clusters, con un volumen heterogeneo de observaciones dentro de ellos. A pesar de esto, se puede observar que hay algunos grupos, especialmente el 2 y 5 que podrían ser el segmento premium y el foco de la estrategia de marketing. En términos prácticos, el foco de la estrategia sigue siendo la misma, donde se debería priorizar clusters donde se ubiquen personas con alto ingreso y alta disposición a gastar, sin embargo, el DBSCAN da un mayor volumen de grupos, lo cual podría lelgar a dificultar la aplicación de una estrategia. "
   ]
  },
  {
   "cell_type": "markdown",
   "metadata": {},
   "source": [
    "### 5. Incorporando más dimensiones\n",
    "\n",
    "Hasta este momento hemos utilizado solo dos variables para nuestro análisis, sin embargo, la base cuenta con otras variables más: género y edad. Usando las categorías de edad creadas anteriormente incorpore género y grupo etario a su análisis. Genere los grupos utilizando DBSCAN y la distancia de Gower, justificando su elección de `min_samples` y `eps`   ¿Incorporar estas variables, ayuda a la focalización de la estrategia de marketing?"
   ]
  },
  {
   "cell_type": "code",
   "execution_count": 7,
   "metadata": {
    "ExecuteTime": {
     "end_time": "2023-07-16T16:42:28.364508+00:00",
     "start_time": "2023-07-16T16:42:22.935059+00:00"
    },
    "jupyter": {
     "outputs_hidden": false,
     "source_hidden": false
    },
    "noteable": {
     "cell_type": "code",
     "output_collection_id": "2b6bd871-3b9e-4474-a898-ee13670b61c3"
    }
   },
   "outputs": [],
   "source": [
    "# Utilice este espacio para escribir el código."
   ]
  },
  {
   "cell_type": "markdown",
   "metadata": {},
   "source": [
    "(Utilice este espacio para describir su procedimiento)"
   ]
  }
 ],
 "metadata": {
  "kernelspec": {
   "display_name": "Python 3",
   "language": "python",
   "name": "python3"
  },
  "language_info": {
   "codemirror_mode": {
    "name": "ipython",
    "version": 3
   },
   "file_extension": ".py",
   "mimetype": "text/x-python",
   "name": "python",
   "nbconvert_exporter": "python",
   "pygments_lexer": "ipython3",
   "version": "3.7.6"
  },
  "noteable": {
   "last_transaction_id": "981dee18-307a-4ad4-a85c-724d5132feaa"
  },
  "selected_hardware_size": "small",
  "toc": {
   "base_numbering": 1,
   "nav_menu": {},
   "number_sections": true,
   "sideBar": true,
   "skip_h1_title": false,
   "title_cell": "Table of Contents",
   "title_sidebar": "Contents",
   "toc_cell": false,
   "toc_position": {},
   "toc_section_display": true,
   "toc_window_display": false
  }
 },
 "nbformat": 4,
 "nbformat_minor": 5
}
